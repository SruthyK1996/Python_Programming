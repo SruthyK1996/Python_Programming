{
  "nbformat": 4,
  "nbformat_minor": 0,
  "metadata": {
    "colab": {
      "provenance": []
    },
    "kernelspec": {
      "name": "python3",
      "display_name": "Python 3"
    },
    "language_info": {
      "name": "python"
    }
  },
  "cells": [
    {
      "cell_type": "markdown",
      "source": [
        "Question 1"
      ],
      "metadata": {
        "id": "nGWVVnhhKLIQ"
      }
    },
    {
      "cell_type": "code",
      "source": [
        "s='Hello, World!'\n",
        "print(s[0:5])"
      ],
      "metadata": {
        "colab": {
          "base_uri": "https://localhost:8080/"
        },
        "id": "8wiXhvyjKO6g",
        "outputId": "3ae89211-24da-4080-9796-6f2238bcd6cd"
      },
      "execution_count": 3,
      "outputs": [
        {
          "output_type": "stream",
          "name": "stdout",
          "text": [
            "Hello\n"
          ]
        }
      ]
    },
    {
      "cell_type": "markdown",
      "source": [
        "Question 2"
      ],
      "metadata": {
        "id": "hvqskox4K_7z"
      }
    },
    {
      "cell_type": "code",
      "source": [
        "s='Python is fun'\n",
        "print(s[7:9])"
      ],
      "metadata": {
        "colab": {
          "base_uri": "https://localhost:8080/"
        },
        "id": "jHkGgKcOK_DD",
        "outputId": "4428b332-a07b-425a-d74a-f5527555f447"
      },
      "execution_count": 4,
      "outputs": [
        {
          "output_type": "stream",
          "name": "stdout",
          "text": [
            "is\n"
          ]
        }
      ]
    },
    {
      "cell_type": "markdown",
      "source": [
        "Question 3\n"
      ],
      "metadata": {
        "id": "dlNhsh7BLaLF"
      }
    },
    {
      "cell_type": "code",
      "source": [
        "p='Programming'\n",
        "print(p[3:7])"
      ],
      "metadata": {
        "colab": {
          "base_uri": "https://localhost:8080/"
        },
        "id": "tgLVAWy3Lct_",
        "outputId": "9a0e8de8-105b-4104-8114-335cffd8bb98"
      },
      "execution_count": 5,
      "outputs": [
        {
          "output_type": "stream",
          "name": "stdout",
          "text": [
            "gram\n"
          ]
        }
      ]
    },
    {
      "cell_type": "markdown",
      "source": [
        "Question 4"
      ],
      "metadata": {
        "id": "rrgSLpxJLuGh"
      }
    },
    {
      "cell_type": "code",
      "source": [
        "txt='abcdefgh'\n",
        "print(txt[0:8:2])"
      ],
      "metadata": {
        "colab": {
          "base_uri": "https://localhost:8080/"
        },
        "id": "lFicXBfgLwpe",
        "outputId": "ae5b8d47-e99e-4e53-c4a5-70b82b08d20f"
      },
      "execution_count": 6,
      "outputs": [
        {
          "output_type": "stream",
          "name": "stdout",
          "text": [
            "aceg\n"
          ]
        }
      ]
    },
    {
      "cell_type": "markdown",
      "source": [
        "Question 5"
      ],
      "metadata": {
        "id": "BfVVXRbyMFx7"
      }
    },
    {
      "cell_type": "code",
      "source": [
        "print(txt[-4:-1])"
      ],
      "metadata": {
        "colab": {
          "base_uri": "https://localhost:8080/"
        },
        "id": "e4016OyDMK72",
        "outputId": "9eefd1ac-7240-4a98-82be-250934e3bc17"
      },
      "execution_count": 8,
      "outputs": [
        {
          "output_type": "stream",
          "name": "stdout",
          "text": [
            "efg\n"
          ]
        }
      ]
    },
    {
      "cell_type": "markdown",
      "source": [
        "Question 6"
      ],
      "metadata": {
        "id": "nnH5gKLdMuPT"
      }
    },
    {
      "cell_type": "code",
      "source": [
        "a='Data Science'\n",
        "print(a[-4:-1])"
      ],
      "metadata": {
        "colab": {
          "base_uri": "https://localhost:8080/"
        },
        "id": "hNsjjn_lMwav",
        "outputId": "7f416c55-01bf-4dcb-f204-3daaba797d01"
      },
      "execution_count": 11,
      "outputs": [
        {
          "output_type": "stream",
          "name": "stdout",
          "text": [
            "enc\n"
          ]
        }
      ]
    },
    {
      "cell_type": "markdown",
      "source": [
        "Question 7"
      ],
      "metadata": {
        "id": "2JzaVOicNNXw"
      }
    },
    {
      "cell_type": "code",
      "source": [
        "abc='abcdefghij'\n",
        "print(abc[1:10:2])"
      ],
      "metadata": {
        "colab": {
          "base_uri": "https://localhost:8080/"
        },
        "id": "snsMSj6UNQXG",
        "outputId": "4e1599a8-1c6a-4803-84c6-47b69048286d"
      },
      "execution_count": 13,
      "outputs": [
        {
          "output_type": "stream",
          "name": "stdout",
          "text": [
            "bdfhj\n"
          ]
        }
      ]
    },
    {
      "cell_type": "markdown",
      "source": [
        "Question 8"
      ],
      "metadata": {
        "id": "PEsJQdgNOKwB"
      }
    },
    {
      "cell_type": "code",
      "source": [
        "dig='1234567890'\n",
        "print(dig[0:10:2])"
      ],
      "metadata": {
        "colab": {
          "base_uri": "https://localhost:8080/"
        },
        "id": "kTBNkW6tONGU",
        "outputId": "dc985eac-304e-4944-cf7e-e24e0e760fd7"
      },
      "execution_count": 15,
      "outputs": [
        {
          "output_type": "stream",
          "name": "stdout",
          "text": [
            "13579\n"
          ]
        }
      ]
    },
    {
      "cell_type": "markdown",
      "source": [
        "Question 9"
      ],
      "metadata": {
        "id": "YcM-go2eO08f"
      }
    },
    {
      "cell_type": "code",
      "source": [
        "s='Hello'\n",
        "print(s[::-1])"
      ],
      "metadata": {
        "colab": {
          "base_uri": "https://localhost:8080/"
        },
        "id": "soatKvLkO3Fe",
        "outputId": "d8b7f818-f5c1-4ec0-cbdc-3d90409e1dac"
      },
      "execution_count": 25,
      "outputs": [
        {
          "output_type": "stream",
          "name": "stdout",
          "text": [
            "olleH\n"
          ]
        }
      ]
    },
    {
      "cell_type": "markdown",
      "source": [
        "Question 10"
      ],
      "metadata": {
        "id": "2hC_ogAVQL2a"
      }
    },
    {
      "cell_type": "code",
      "source": [
        "wrd='abcdefghijk'\n",
        "print(wrd[::2])"
      ],
      "metadata": {
        "colab": {
          "base_uri": "https://localhost:8080/"
        },
        "id": "7Ft582bnQNvQ",
        "outputId": "f1d53f38-f9d0-4ca4-bf35-ab90b5f0fec4"
      },
      "execution_count": 27,
      "outputs": [
        {
          "output_type": "stream",
          "name": "stdout",
          "text": [
            "acegik\n"
          ]
        }
      ]
    }
  ]
}