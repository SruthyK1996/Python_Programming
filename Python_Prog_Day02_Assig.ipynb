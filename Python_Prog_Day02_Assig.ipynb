{
  "nbformat": 4,
  "nbformat_minor": 0,
  "metadata": {
    "colab": {
      "provenance": []
    },
    "kernelspec": {
      "name": "python3",
      "display_name": "Python 3"
    },
    "language_info": {
      "name": "python"
    }
  },
  "cells": [
    {
      "cell_type": "markdown",
      "source": [
        "Question 1"
      ],
      "metadata": {
        "id": "zPZ0L-PecpBp"
      }
    },
    {
      "cell_type": "code",
      "execution_count": null,
      "metadata": {
        "colab": {
          "base_uri": "https://localhost:8080/"
        },
        "id": "4YEqmcTZcirw",
        "outputId": "504d829c-ca36-402c-d0d8-d94fc565e9f5"
      },
      "outputs": [
        {
          "output_type": "stream",
          "name": "stdout",
          "text": [
            "The sum of the elements in the list is: 10\n"
          ]
        }
      ],
      "source": [
        "list1 = [1, 2, 3, 4]\n",
        "sum_ofelements = sum(my_list)\n",
        "print(\"The sum of the elements in the list is:\",sum_ofelements)"
      ]
    },
    {
      "cell_type": "markdown",
      "source": [
        "Question 2"
      ],
      "metadata": {
        "id": "-MzV1sYngj9e"
      }
    },
    {
      "cell_type": "code",
      "source": [
        "string=str(input(\"enter the string : \"))\n",
        "length=len(string)\n",
        "half_length=length//2\n",
        "print(string[0:half_length])"
      ],
      "metadata": {
        "colab": {
          "base_uri": "https://localhost:8080/"
        },
        "id": "6yi9sqC5k_n5",
        "outputId": "10db9d68-53ea-4953-9aa0-2d76a1c3f1a7"
      },
      "execution_count": null,
      "outputs": [
        {
          "output_type": "stream",
          "name": "stdout",
          "text": [
            "enter the string : i am studying python\n",
            "i am study\n"
          ]
        }
      ]
    },
    {
      "cell_type": "markdown",
      "source": [
        "Question 3"
      ],
      "metadata": {
        "id": "_yPiSxy3l0jJ"
      }
    },
    {
      "cell_type": "code",
      "source": [
        "oldtuple=(78,45,32,19,82,77,40,39)\n",
        "oldlist=list(oldtuple)\n",
        "oldlist[2]=100\n",
        "newtuple=(oldlist)\n",
        "print(newtuple)\n"
      ],
      "metadata": {
        "id": "ObJnP1Gjlz1y",
        "colab": {
          "base_uri": "https://localhost:8080/"
        },
        "outputId": "824511ff-8735-4103-a504-b26bbbb6dcc7"
      },
      "execution_count": null,
      "outputs": [
        {
          "output_type": "stream",
          "name": "stdout",
          "text": [
            "[78, 45, 100, 19, 82, 77, 40, 39]\n"
          ]
        }
      ]
    },
    {
      "cell_type": "markdown",
      "source": [
        "Question 4"
      ],
      "metadata": {
        "id": "UmrXRXcjnwlu"
      }
    },
    {
      "cell_type": "code",
      "source": [
        "listA=[19,32,10,55,31,32,94,29,10,65,77,40,40]\n",
        "listA.remove(32)\n",
        "print(listA)                                  #(a)\n",
        "listA=[x for x in listA if x!=40]\n",
        "print(listA)                                  #(b)\n",
        "listA.remove(listA[5])\n",
        "print(listA)                                  #(c)\n",
        "listA[5]=300                                  # if i use 9th index i am getting an error so replacing it with 5\n",
        "print(listA)                                  #(d)\n",
        "listA.insert(2,200)                           #(e)\n",
        "print(listA)                                  #(f)\n",
        "print(\"Length of the list is : \",len(listA))\n",
        "print(\"Maximum value of the list is : \",max(listA))\n",
        "print(\"Sum of the list is : \",sum(listA))\n"
      ],
      "metadata": {
        "colab": {
          "base_uri": "https://localhost:8080/"
        },
        "id": "cVjKDAMeny23",
        "outputId": "194c6914-91f1-4e6b-b26f-8999027e0f7b"
      },
      "execution_count": null,
      "outputs": [
        {
          "output_type": "stream",
          "name": "stdout",
          "text": [
            "[19, 10, 55, 31, 32, 94, 29, 10, 65, 77, 40, 40]\n",
            "[19, 10, 55, 31, 32, 94, 29, 10, 65, 77]\n",
            "[19, 10, 55, 31, 32, 29, 10, 65, 77]\n",
            "[19, 10, 55, 31, 32, 300, 10, 65, 77]\n",
            "[19, 10, 200, 55, 31, 32, 300, 10, 65, 77]\n",
            "Length of the list is :  10\n",
            "Maximum value of the list is :  300\n",
            "Sum of the list is :  799\n"
          ]
        }
      ]
    },
    {
      "cell_type": "markdown",
      "source": [
        "Question 4"
      ],
      "metadata": {
        "id": "Mrb824K3ubKM"
      }
    },
    {
      "cell_type": "code",
      "source": [
        "txt=str('The day has been long')\n",
        "txtnew=txt[:4]+txt[5:]\n",
        "print(txtnew)                             #(a)\n",
        "print(\"The day has been long \"*4)         #(b)\n",
        "print(\"The day has been long\\n\"*4)        #(c)\n",
        "txtmod=txt[:7]+'A'+txt[8:]                #(d)\n",
        "print(txtmod)\n",
        "print(txtmod[4:16])                       #(e)\n",
        "print(len(txtmod))                        #(f)\n",
        "\n"
      ],
      "metadata": {
        "colab": {
          "base_uri": "https://localhost:8080/"
        },
        "id": "-BOlow6Aud2x",
        "outputId": "e7631c96-4859-4483-a67c-e913b927ea88"
      },
      "execution_count": 39,
      "outputs": [
        {
          "output_type": "stream",
          "name": "stdout",
          "text": [
            "The ay has been long\n",
            "The day has been long The day has been long The day has been long The day has been long \n",
            "The day has been long\n",
            "The day has been long\n",
            "The day has been long\n",
            "The day has been long\n",
            "\n",
            "The dayAhas been long\n",
            "dayAhas been\n",
            "21\n"
          ]
        }
      ]
    },
    {
      "cell_type": "code",
      "source": [],
      "metadata": {
        "id": "yS7chL7E3UF6"
      },
      "execution_count": null,
      "outputs": []
    }
  ]
}