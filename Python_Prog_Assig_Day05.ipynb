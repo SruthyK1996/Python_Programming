{
  "nbformat": 4,
  "nbformat_minor": 0,
  "metadata": {
    "colab": {
      "provenance": []
    },
    "kernelspec": {
      "name": "python3",
      "display_name": "Python 3"
    },
    "language_info": {
      "name": "python"
    }
  },
  "cells": [
    {
      "cell_type": "markdown",
      "source": [
        "Question 1: Write a function that returns the middle value among three integers.Write code to test this\n",
        "function with different inputs."
      ],
      "metadata": {
        "id": "jSVLM-srJEeb"
      }
    },
    {
      "cell_type": "code",
      "execution_count": null,
      "metadata": {
        "id": "Fx35HsuOI5Xm",
        "colab": {
          "base_uri": "https://localhost:8080/"
        },
        "outputId": "065d8acd-21c9-47d0-f9e2-e5fb44f5d938"
      },
      "outputs": [
        {
          "output_type": "stream",
          "name": "stdout",
          "text": [
            "enter three numbers 101 300 95\n",
            "The middle one is  101\n"
          ]
        }
      ],
      "source": [
        "x,y,z=map(int,input(\"enter three numbers \").split(\" \"))\n",
        "def middleamongthree():\n",
        "  sorted_list=sorted([x,y,z])\n",
        "  return sorted_list[1]\n",
        "a=middleamongthree()\n",
        "print(\"The middle one is \",a)\n"
      ]
    },
    {
      "cell_type": "markdown",
      "source": [
        "Question 2: Build a calculator in Python using functions"
      ],
      "metadata": {
        "id": "z8C8dlyTM6ur"
      }
    },
    {
      "cell_type": "code",
      "source": [
        "def addition(a,b):\n",
        "  return a+b\n",
        "def subtraction(a,b):\n",
        "  return a-b\n",
        "def multiplication(a,b):\n",
        "  return a*b\n",
        "def divition(a,b):\n",
        "  if b!=0:\n",
        "    return a/b\n",
        "  else:\n",
        "    return \"can not be determine\"\n",
        "\n",
        "\n",
        "def calculator():\n",
        "  while True:\n",
        "   x=float(input(\"Enter your first number:\"))\n",
        "   y=float(input(\"Enter your second number:\"))\n",
        "   operator=input(\"Enter the operator(+,-,*,/):\")\n",
        "   result=0\n",
        "   if operator=='+':\n",
        "     result=addition(x,y)\n",
        "     break\n",
        "   elif operator=='-':\n",
        "     result=subtraction(x,y)\n",
        "     break\n",
        "   elif operator=='*':\n",
        "     result=multiplication(x,y)\n",
        "     break\n",
        "   elif operator=='/':\n",
        "     result=divition(x,y)\n",
        "     break\n",
        "   else:\n",
        "     print(\"Invalid operator PLEASE ENTER ONCE AGAIN\")\n",
        "     continue\n",
        "\n",
        "  print(f\"result is {result}\")\n",
        "\n",
        "calculator()\n",
        "\n"
      ],
      "metadata": {
        "id": "brWnUdttfUFj",
        "colab": {
          "base_uri": "https://localhost:8080/"
        },
        "outputId": "277f31c6-628e-4207-91a7-312ace00ec92"
      },
      "execution_count": 5,
      "outputs": [
        {
          "output_type": "stream",
          "name": "stdout",
          "text": [
            "Enter your first number:6\n",
            "Enter your second number:2.5\n",
            "Enter the operator(+,-,*,/):/\n",
            "result is 2.4\n"
          ]
        }
      ]
    },
    {
      "cell_type": "markdown",
      "source": [
        "Question :3 Write a function that takes the lengths of the two shorter sides of a right triangle as its\n",
        "parameters. Return the hypotenuse of the triangle, computed using Pythagorean theorem,\n",
        "as the function’s result."
      ],
      "metadata": {
        "id": "PCwCWKC_l6n6"
      }
    },
    {
      "cell_type": "code",
      "source": [
        "import math\n",
        "\n",
        "def finding_hypotenuse(a,b):\n",
        "  c=((a*a)+(b*b))\n",
        "  d=math.sqrt(c)\n",
        "  return d\n",
        "\n",
        "x,y=map(float,input(\"enter the opposite and adjecent sides of right angled triangle:\").split(\",\"))\n",
        "result=finding_hypotenuse(x,y)\n",
        "print(f'length of Hypotenuse is :{result}')"
      ],
      "metadata": {
        "colab": {
          "base_uri": "https://localhost:8080/"
        },
        "id": "eyO7meXSl5sL",
        "outputId": "8c3523ed-dd65-408a-f3af-fb36c0b477af"
      },
      "execution_count": null,
      "outputs": [
        {
          "output_type": "stream",
          "name": "stdout",
          "text": [
            "enter the opposite and adjecent sides of right angled triangle:1,1\n",
            "length of Hypotenuse is :1.4142135623730951\n"
          ]
        }
      ]
    },
    {
      "cell_type": "markdown",
      "source": [
        "Question 4:The Rectangle problem\n",
        "(a) Write a Rectangle class in Python language, allowing you to build a rectangle with\n",
        "length and width attributes.\n",
        "(b) Create a Perimeter() method to calculate the perimeter of the rectangle and a Area()\n",
        "method to calculate the area of the rectangle.\n",
        "(c) Create a method display() that display the length, width, perimeter and area of an\n",
        "object created using an instantiation on rectangle class.\n"
      ],
      "metadata": {
        "id": "s5CWHkr-pGwc"
      }
    },
    {
      "cell_type": "code",
      "source": [
        "# creating a class rectangle\n",
        "class rectangle:\n",
        "  def __init__(self,length,width):\n",
        "    self.length=length\n",
        "    self.width=width\n",
        "  def perimeter(self):\n",
        "    peri= (2*(self.length+self.width))\n",
        "    return peri\n",
        "  def area(self):\n",
        "    rectarea=(self.length*self.width)\n",
        "    return rectarea\n",
        "  def display(self):\n",
        "    print(f'length:{self.length}')\n",
        "    print(f'width:{self.width}')\n",
        "    print(f'perimeter={self.perimeter()}')\n",
        "    print(f'area={self.area()}')\n",
        "\n",
        "my_rectangle=rectangle(5,6)\n",
        "my_rectangle.display()\n",
        "\n",
        "\n",
        "\n",
        "\n"
      ],
      "metadata": {
        "id": "YpkKUbCosUoi",
        "colab": {
          "base_uri": "https://localhost:8080/"
        },
        "outputId": "103921cc-3d51-4640-fff9-d5722ba20cae"
      },
      "execution_count": null,
      "outputs": [
        {
          "output_type": "stream",
          "name": "stdout",
          "text": [
            "length:5\n",
            "width:6\n",
            "perimeter=22\n",
            "area=30\n"
          ]
        }
      ]
    },
    {
      "cell_type": "markdown",
      "source": [
        "Question 5:The Bank Account problem\n",
        "(a) Create a Python class called BankAccount which represents a bank account, having\n",
        "as attributes: accountNumber (numeric type), name (name of the account owner as\n",
        "string type), balance.\n",
        "(b) Create a constructor with parameters: accountNumber, name, balance.\n",
        "(c) Create a Deposit() method which manages the deposit actions.\n",
        "(d) Create a Withdrawal() method which manages withdrawals actions.\n",
        "(e) Create an bankFees() method to apply the bank fees with a percentage of 5% of the\n",
        "balance account.\n",
        "(f) Create a display() method to display account details."
      ],
      "metadata": {
        "id": "wX3qrrg735fk"
      }
    },
    {
      "cell_type": "code",
      "source": [
        "class BankAccount:\n",
        "  def __init__(self,accountNumber,name,balance):\n",
        "    self.accountNumber=accountNumber\n",
        "    self.name=name\n",
        "    self.balance=balance\n",
        "\n",
        "  def Deposit(self,amount):\n",
        "    self.balance+=amount\n",
        "\n",
        "  def Withdrawal(self,amount):\n",
        "    if self.balance>amount:\n",
        "      self.balance-=amount\n",
        "    else:\n",
        "      print(\"Insufficient balance!!\")\n",
        "\n",
        "  def bankFees(self):\n",
        "    perc_reduction=0.05\n",
        "    self.bank_charge=self.balance*perc_reduction\n",
        "    self.balance -= self.bank_charge\n",
        "\n",
        "  def display(self):\n",
        "    print(f'Account Number:{self.accountNumber}')\n",
        "    print(f'Owner Name:{self.name}')\n",
        "    print(f'Account Balance :{self.balance}')\n",
        "\n",
        "my_bankAccount=BankAccount(accountNumber=60006,name=\"sruthy\",balance=5000)\n",
        "my_bankAccount.Deposit(500)\n",
        "my_bankAccount.bankFees()\n",
        "my_bankAccount.display()"
      ],
      "metadata": {
        "colab": {
          "base_uri": "https://localhost:8080/"
        },
        "id": "zl9I6UJNh_Nn",
        "outputId": "0b433456-ef47-4e01-9e57-29b41f8a626f"
      },
      "execution_count": 4,
      "outputs": [
        {
          "output_type": "stream",
          "name": "stdout",
          "text": [
            "Account Number:60006\n",
            "Owner Name:sruthy\n",
            "Account Balance :5225.0\n"
          ]
        }
      ]
    }
  ]
}