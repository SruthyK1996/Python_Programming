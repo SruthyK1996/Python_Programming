{
  "nbformat": 4,
  "nbformat_minor": 0,
  "metadata": {
    "colab": {
      "provenance": []
    },
    "kernelspec": {
      "name": "python3",
      "display_name": "Python 3"
    },
    "language_info": {
      "name": "python"
    }
  },
  "cells": [
    {
      "cell_type": "markdown",
      "source": [
        "Question 1: Given the participants' score sheet for your University Sports Day, you are required to\n",
        "find the runner-up score. You are given scores. Store them in a list and find the score of\n",
        "the runner-up. (Create an array of scores and print the runner up score)"
      ],
      "metadata": {
        "id": "X11TOVEKWdBY"
      }
    },
    {
      "cell_type": "code",
      "execution_count": 7,
      "metadata": {
        "colab": {
          "base_uri": "https://localhost:8080/"
        },
        "id": "Y5gkaJFXVux9",
        "outputId": "b36164c4-6467-462b-822e-94e38adb1fd8"
      },
      "outputs": [
        {
          "output_type": "stream",
          "name": "stdout",
          "text": [
            "Thr runner-up score is:  62\n"
          ]
        }
      ],
      "source": [
        "score=[25,45,62,34,87,20,9,16]\n",
        "score.sort()\n",
        "new_score=score[::-1]\n",
        "print(\"Thr runner-up score is: \",new_score[1])\n"
      ]
    },
    {
      "cell_type": "markdown",
      "source": [
        "Question:2 A dictionary is given D={‘John’ [25,32,43],’Peter’:[87,55,96],’Ram’:[58,55,43],’Meena’:[63,79,85]}\n",
        "Get a name from user if the name in the dictionary change the values corresponding to\n",
        "that user to [88,77,99] and print the dictionary. Else print ‘Name not found’."
      ],
      "metadata": {
        "id": "HFdOGgbnYWW8"
      }
    },
    {
      "cell_type": "code",
      "source": [
        "D={'John':[25,32,43],'Peter':[87,55,96],'Ram':[58,55,43],'Meena':[63,79,85]}\n",
        "name_to_update=str(input(\"enter your name: \")).capitalize()\n",
        "if name_to_update in D:\n",
        "  D[name_to_update]=[88,77,99]\n",
        "  print(\"The updated dictionary is: \",D)\n",
        "else:\n",
        "  print(\"Name not found\")\n"
      ],
      "metadata": {
        "colab": {
          "base_uri": "https://localhost:8080/"
        },
        "id": "lKnZ-mchY9lT",
        "outputId": "5d03d942-e8da-416a-d78d-26eaa68dfb3d"
      },
      "execution_count": 10,
      "outputs": [
        {
          "output_type": "stream",
          "name": "stdout",
          "text": [
            "enter your name: sruthy\n",
            "Name not found\n"
          ]
        }
      ]
    },
    {
      "cell_type": "markdown",
      "source": [
        "Question:3 Ticket Price Calculator:\n",
        "I. Ask the user to enter their age.\n",
        "II. Use control statements (if-elif-else) to calculate the ticket price based on the\n",
        "following conditions:\n",
        "a. If the age is below 5, the ticket price is free.\n",
        "b. If the age is between 5 and 12 (inclusive), the ticket price is Rs.10.\n",
        "c. If the age is above 12, the ticket price is Rs.50.\n",
        "d. If the age is above 60, the ticket price is free.\n",
        "e. If the gender is female, the ticket price is 50% of the applicable rates.\n",
        "III. Display the ticket price to the user."
      ],
      "metadata": {
        "id": "BObH6utPaIrV"
      }
    },
    {
      "cell_type": "code",
      "source": [
        "age=int(input(\"Enter your age: \"))\n",
        "if age<5 or age>=60:\n",
        "  print(\"Your Ticket is free\")\n",
        "elif 5<=age<=12:\n",
        "  gender=str(input(\"Enter your gender(F/M): \")).upper()\n",
        "  if gender=='F':\n",
        "    print(\"Your Ticket Price is : 5 Rs\")\n",
        "  else:\n",
        "    print(\"Your Ticket price is: 10 Rs\")\n",
        "else:\n",
        "  gender=str(input(\"Enter your gender(F/M): \")).upper()\n",
        "  if gender=='F':\n",
        "    print(\"Your Ticket Price is : 25 Rs\")\n",
        "  else:\n",
        "    print(\"Your Ticket price is: 50 Rs\")\n"
      ],
      "metadata": {
        "colab": {
          "base_uri": "https://localhost:8080/"
        },
        "id": "Zqz_rhvScrJj",
        "outputId": "40989a86-1e50-40d5-9e16-37d8816186b5"
      },
      "execution_count": 13,
      "outputs": [
        {
          "output_type": "stream",
          "name": "stdout",
          "text": [
            "Enter your age: 66\n",
            "Your Ticket is free\n"
          ]
        }
      ]
    }
  ]
}