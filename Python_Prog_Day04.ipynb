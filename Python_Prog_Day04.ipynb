{
  "nbformat": 4,
  "nbformat_minor": 0,
  "metadata": {
    "colab": {
      "provenance": []
    },
    "kernelspec": {
      "name": "python3",
      "display_name": "Python 3"
    },
    "language_info": {
      "name": "python"
    }
  },
  "cells": [
    {
      "cell_type": "markdown",
      "source": [
        "Question 1: Write an interactive Python Program to implement following “Guess Game”\n",
        "i. Think of a number between 1 and 10 and store it in a variable called\n",
        "\"secretNumber\".\n",
        "ii. Ask the user to enter a number between 1 and 10 and store it in a variable called\n",
        "\"guess\".\n",
        "iii. Use control statements (if-else) to check if the guess is correct, higher, or lower\n",
        "than the secret number.\n",
        "iv. Display appropriate messages to the user based on their guess:\n",
        "• If the guess is correct, display \"Congratulations! You guessed the number\n",
        "correctly!\"\n",
        "• If the guess is higher than the secret number, display \"Too high! Try\n",
        "again.\"\n",
        "• If the guess is lower than the secret number, display \"Too low! Try again.\"\n",
        "v. Allow the user to keep guessing until they guess the correct number."
      ],
      "metadata": {
        "id": "aR1cBY0wiLbM"
      }
    },
    {
      "cell_type": "code",
      "execution_count": 3,
      "metadata": {
        "colab": {
          "base_uri": "https://localhost:8080/"
        },
        "id": "8quPXZg7h9fG",
        "outputId": "d82b651d-c2ab-434c-fd59-dd36151ad3ae"
      },
      "outputs": [
        {
          "output_type": "stream",
          "name": "stdout",
          "text": [
            "Enter a number between 1 and 10 :6\n",
            "Too high! Try again.\n",
            "Enter a number between 1 and 10 :7\n",
            "Too high! Try again.\n",
            "Enter a number between 1 and 10 :5\n",
            "Too high! Try again.\n",
            "Enter a number between 1 and 10 :1\n",
            "Too low! Try again.\n",
            "Enter a number between 1 and 10 :4\n",
            "Congratulations!You guessed correctly!!!!\n"
          ]
        }
      ],
      "source": [
        "secretNumber=4\n",
        "while True:\n",
        "  guess=int(input(\"Enter a number between 1 and 10 :\"))\n",
        "  if secretNumber==guess:\n",
        "    print(\"Congratulations!You guessed correctly!!!!\")\n",
        "    break\n",
        "  elif guess<secretNumber:\n",
        "    print( \"Too low! Try again.\")\n",
        "  else:\n",
        "    print(\"Too high! Try again.\")\n"
      ]
    },
    {
      "cell_type": "markdown",
      "source": [
        "Question 2: Write a program to find and print the Factorial of this number. The Factorial of a positive\n",
        "integer N refers to the product of all number in the range from 1 to N.\n"
      ],
      "metadata": {
        "id": "76B3UFbAlL9S"
      }
    },
    {
      "cell_type": "code",
      "source": [
        "n=int(input(\"Enter a number:\"))\n",
        "fact=1\n",
        "i=1\n",
        "for i in range(1,n+1):\n",
        "  fact=fact*i\n",
        "print(\"Factorial of \",n ,\" is: \",fact)"
      ],
      "metadata": {
        "colab": {
          "base_uri": "https://localhost:8080/"
        },
        "id": "w4UcGbUylcna",
        "outputId": "28273789-cacc-496b-896c-796a3c5b74b2"
      },
      "execution_count": 6,
      "outputs": [
        {
          "output_type": "stream",
          "name": "stdout",
          "text": [
            "Enter a number:15\n",
            "Factorial of  15  is:  1307674368000\n"
          ]
        }
      ]
    },
    {
      "cell_type": "markdown",
      "source": [
        "Question 3: • Roy wants to change his profile picture on Facebook. Now Facebook has some\n",
        "restriction over the dimension of picture that we can upload.\n",
        "Minimum dimension of the picture can be L x L, where L is the length of the side\n",
        "of square. Now Roy has N photos of various dimensions.\n",
        "Dimension of a photo is denoted as W x H\n",
        "where W - width of the photo and H - Height of the photo\n",
        "• When any photo is uploaded following events may occur:\n",
        "[1] If any of the width or height is less than L, user is prompted to upload another\n",
        "one. Print \"UPLOAD ANOTHER\" in this case.\n",
        "[2] If width and height, both are large enough and\n",
        "(a) if the photo is already square then it is accepted. Print \"ACCEPTED\" in this\n",
        "case.\n",
        "(b) else user is prompted to crop it. Print \"CROP IT\" in this case.\n",
        "Given L, N, W and H as input, write a program to print appropriate text as output"
      ],
      "metadata": {
        "id": "-pV6Bv0nnO98"
      }
    },
    {
      "cell_type": "code",
      "source": [
        "L=int(input(\"Enter the requied length of the side of the square:\"))\n",
        "W=int(input(\"Enter the width of the photo you have: \"))\n",
        "H=int(input(\"Enter the Height of the photo you have: \"))\n",
        "if W<L or H<L:\n",
        "  print(\"UPLOAD ANOTHER\")\n",
        "else:\n",
        "  if W==H:\n",
        "    print(\"ACCEPTED\")\n",
        "  else:\n",
        "    print(\"CROP IT\")\n"
      ],
      "metadata": {
        "colab": {
          "base_uri": "https://localhost:8080/"
        },
        "id": "Y26mfggQo423",
        "outputId": "6f456eeb-3417-41bc-d7cc-9ae3337d93a4"
      },
      "execution_count": 11,
      "outputs": [
        {
          "output_type": "stream",
          "name": "stdout",
          "text": [
            "Enter the requied length of the side of the square:10\n",
            "Enter the width of the photo you have: 15\n",
            "Enter the Height of the photo you have: 15\n",
            "ACCEPTED\n"
          ]
        }
      ]
    }
  ]
}